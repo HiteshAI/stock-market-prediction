{
  "nbformat": 4,
  "nbformat_minor": 0,
  "metadata": {
    "colab": {
      "name": "google_stock_analysis_using_lda.ipynb",
      "provenance": [],
      "collapsed_sections": [],
      "include_colab_link": true
    },
    "kernelspec": {
      "name": "python3",
      "display_name": "Python 3"
    }
  },
  "cells": [
    {
      "cell_type": "markdown",
      "metadata": {
        "id": "view-in-github",
        "colab_type": "text"
      },
      "source": [
        "<a href=\"https://colab.research.google.com/github/HiteshAI/stock-market-prediction/blob/master/google_stock_analysis_using_lda.ipynb\" target=\"_parent\"><img src=\"https://colab.research.google.com/assets/colab-badge.svg\" alt=\"Open In Colab\"/></a>"
      ]
    },
    {
      "cell_type": "markdown",
      "metadata": {
        "id": "mAXPCo5Ds6jF",
        "colab_type": "text"
      },
      "source": [
        "# **Import necessary libraries**"
      ]
    },
    {
      "cell_type": "code",
      "metadata": {
        "id": "4kV9Pek4X_ng",
        "colab_type": "code",
        "colab": {}
      },
      "source": [
        "import numpy as np\n",
        "import pandas as pd\n",
        "from sklearn.discriminant_analysis import LinearDiscriminantAnalysis\n",
        "from sklearn.metrics import accuracy_score\n",
        "from sklearn.preprocessing import MinMaxScaler"
      ],
      "execution_count": 0,
      "outputs": []
    },
    {
      "cell_type": "markdown",
      "metadata": {
        "id": "dSw74DJntH-j",
        "colab_type": "text"
      },
      "source": [
        "# **Load data**"
      ]
    },
    {
      "cell_type": "code",
      "metadata": {
        "id": "yHRK-HB_ed2_",
        "colab_type": "code",
        "colab": {}
      },
      "source": [
        "df = pd.read_csv('google_stock_data.csv')\n",
        "df.head()"
      ],
      "execution_count": 0,
      "outputs": []
    },
    {
      "cell_type": "markdown",
      "metadata": {
        "id": "CjPpmHm1tMk1",
        "colab_type": "text"
      },
      "source": [
        "# **Add target column**\n",
        "Our strategy for classification is to assign -1 if the closing price of next day is lower, which signifies our stock value has gone down. If next day's stock closing price is high then we assign positive 1.\n",
        "Here's is one liner to perform this action"
      ]
    },
    {
      "cell_type": "code",
      "metadata": {
        "id": "fvIQv5oCCBO6",
        "colab_type": "code",
        "colab": {}
      },
      "source": [
        "df['target']= np.where(df['Close'].shift(-1)>df['Close'],1,-1)\n",
        "df.head()"
      ],
      "execution_count": 0,
      "outputs": []
    },
    {
      "cell_type": "markdown",
      "metadata": {
        "id": "pmmrDmA2uDn9",
        "colab_type": "text"
      },
      "source": [
        "# **Prepare training/test set**"
      ]
    },
    {
      "cell_type": "code",
      "metadata": {
        "id": "OtdO43tJt-WR",
        "colab_type": "code",
        "colab": {}
      },
      "source": [
        "#we shall use open/close/high/low/volume price as our input feature and drop other columns\n",
        "X= df.drop(columns=['Date','Adj Close','target'], axis=1)\n",
        "#target is the positive/negative signal for particular day\n",
        "y = df['target']\n",
        "# Split the dataset into training/test set(80:20 split)\n",
        "split = 0.8\n",
        "total_size = len(df)\n",
        "selection = int(split*total_size)\n",
        "X_train = X[:selection]\n",
        "y_train = y[:selection]\n",
        "X_test = X[selection:]\n",
        "y_test = y[selection:]"
      ],
      "execution_count": 0,
      "outputs": []
    },
    {
      "cell_type": "markdown",
      "metadata": {
        "id": "aSFyKmFCx1Jo",
        "colab_type": "text"
      },
      "source": [
        "# **Fit data using LDA**"
      ]
    },
    {
      "cell_type": "code",
      "metadata": {
        "id": "j6kv0uZmJPtT",
        "colab_type": "code",
        "colab": {}
      },
      "source": [
        "classifier = LinearDiscriminantAnalysis()\n",
        "classifier.fit(X_train,y_train)"
      ],
      "execution_count": 0,
      "outputs": []
    },
    {
      "cell_type": "markdown",
      "metadata": {
        "id": "uBoOGKA7yoE1",
        "colab_type": "text"
      },
      "source": [
        "# **Prediction**"
      ]
    },
    {
      "cell_type": "code",
      "metadata": {
        "id": "OTMZtiTrJylH",
        "colab_type": "code",
        "colab": {}
      },
      "source": [
        "# Accuracy Score\n",
        "accuracy_train = accuracy_score(y_train, classifier.predict(X_train))\n",
        "accuracy_test = accuracy_score(y_test, classifier.predict(X_test))\n",
        "\n",
        "print ('Train_data Accuracy: %.2f' %accuracy_train)\n",
        "print ('Test_data Accuracy: %.2f' %accuracy_test)"
      ],
      "execution_count": 0,
      "outputs": []
    }
  ]
}