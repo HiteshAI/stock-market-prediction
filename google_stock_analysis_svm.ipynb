{
  "nbformat": 4,
  "nbformat_minor": 0,
  "metadata": {
    "colab": {
      "name": "google_stock_analysis_svm.ipynb",
      "provenance": [],
      "collapsed_sections": [],
      "include_colab_link": true
    },
    "kernelspec": {
      "name": "python3",
      "display_name": "Python 3"
    },
    "accelerator": "GPU"
  },
  "cells": [
    {
      "cell_type": "markdown",
      "metadata": {
        "id": "view-in-github",
        "colab_type": "text"
      },
      "source": [
        "<a href=\"https://colab.research.google.com/github/HiteshAI/stock-market-prediction/blob/master/google_stock_analysis_svm.ipynb\" target=\"_parent\"><img src=\"https://colab.research.google.com/assets/colab-badge.svg\" alt=\"Open In Colab\"/></a>"
      ]
    },
    {
      "cell_type": "markdown",
      "metadata": {
        "id": "mAXPCo5Ds6jF",
        "colab_type": "text"
      },
      "source": [
        "# **Import necessary libraries**"
      ]
    },
    {
      "cell_type": "code",
      "metadata": {
        "id": "4kV9Pek4X_ng",
        "colab_type": "code",
        "colab": {}
      },
      "source": [
        "import numpy as np\n",
        "import pandas as pd\n",
        "import matplotlib.pyplot as plt\n",
        "from sklearn.metrics import accuracy_score\n",
        "from sklearn.model_selection import train_test_split\n",
        "from sklearn.preprocessing import StandardScaler, MinMaxScaler\n",
        "from sklearn import svm\n",
        "import matplotlib.ticker as ticker"
      ],
      "execution_count": 0,
      "outputs": []
    },
    {
      "cell_type": "markdown",
      "metadata": {
        "id": "dSw74DJntH-j",
        "colab_type": "text"
      },
      "source": [
        "# **Load data**"
      ]
    },
    {
      "cell_type": "code",
      "metadata": {
        "id": "yHRK-HB_ed2_",
        "colab_type": "code",
        "colab": {}
      },
      "source": [
        "df = pd.read_csv('google_stock_data.csv')\n",
        "df.head()"
      ],
      "execution_count": 0,
      "outputs": []
    },
    {
      "cell_type": "markdown",
      "metadata": {
        "id": "CjPpmHm1tMk1",
        "colab_type": "text"
      },
      "source": [
        "# **Add target column**\n",
        "Our strategy for classification is to assign -1 if the closing price of next day is lower, which signifies our stock value has gone down. If next day's stock closing price is high then we assign positive 1.\n",
        "Here's is one liner to perform this action"
      ]
    },
    {
      "cell_type": "code",
      "metadata": {
        "id": "fvIQv5oCCBO6",
        "colab_type": "code",
        "colab": {}
      },
      "source": [
        "forecast_window = 10\n",
        "df['target']= np.where(df['Close'].shift(-forecast_window)>df['Close'],1,-1)\n",
        "df.head()"
      ],
      "execution_count": 0,
      "outputs": []
    },
    {
      "cell_type": "markdown",
      "metadata": {
        "id": "pmmrDmA2uDn9",
        "colab_type": "text"
      },
      "source": [
        "# **Prepare training/test set**"
      ]
    },
    {
      "cell_type": "code",
      "metadata": {
        "id": "OtdO43tJt-WR",
        "colab_type": "code",
        "colab": {}
      },
      "source": [
        "#we shall use only open/close and high/low price as our input feature\n",
        "X= df.drop(['Date', 'Adj Close', 'target'], axis=1)\n",
        "#target is the positive/negative signal for particular day\n",
        "y = df['target']\n",
        "# Split the dataset into training/test set(70:30 split)\n",
        "# X_train, X_test, y_train, y_test = train_test_split(X, y, test_size = 0.1, random_state=0)\n",
        "\n",
        "\n",
        "split = 0.85\n",
        "total_size = len(df)\n",
        "X_train = X[:int(split*total_size)]\n",
        "y_train = y[:int(split*total_size)]\n",
        "X_test = X[int(split*total_size):]\n",
        "y_test = y[int(split*total_size):]"
      ],
      "execution_count": 0,
      "outputs": []
    },
    {
      "cell_type": "markdown",
      "metadata": {
        "id": "aSFyKmFCx1Jo",
        "colab_type": "text"
      },
      "source": [
        "# **Fit your training data to SVM CLassifier**"
      ]
    },
    {
      "cell_type": "code",
      "metadata": {
        "id": "j6kv0uZmJPtT",
        "colab_type": "code",
        "colab": {}
      },
      "source": [
        "classifier = svm.SVC()\n",
        "classifier.fit(X_train,y_train)"
      ],
      "execution_count": 0,
      "outputs": []
    },
    {
      "cell_type": "markdown",
      "metadata": {
        "id": "uBoOGKA7yoE1",
        "colab_type": "text"
      },
      "source": [
        "# **Prediction**"
      ]
    },
    {
      "cell_type": "code",
      "metadata": {
        "id": "OTMZtiTrJylH",
        "colab_type": "code",
        "colab": {}
      },
      "source": [
        "# Accuracy Score\n",
        "accuracy_train = accuracy_score(y_train, classifier.predict(X_train))\n",
        "accuracy_test = accuracy_score(y_test, classifier.predict(X_test))\n",
        "\n",
        "print ('Train_data Accuracy: %.2f' %accuracy_train)\n",
        "print ('Test_data Accuracy: %.2f' %accuracy_test)"
      ],
      "execution_count": 0,
      "outputs": []
    },
    {
      "cell_type": "markdown",
      "metadata": {
        "id": "VmvnaXoQjV7q",
        "colab_type": "text"
      },
      "source": [
        "# **Support Vector Regression**"
      ]
    },
    {
      "cell_type": "markdown",
      "metadata": {
        "id": "L1m-3xXxml5Q",
        "colab_type": "text"
      },
      "source": [
        "Predicting next days opening price"
      ]
    },
    {
      "cell_type": "code",
      "metadata": {
        "id": "-VTEChYhmrTe",
        "colab_type": "code",
        "colab": {}
      },
      "source": [
        "X_reg = df['Open'].values.reshape(-1,1)\n",
        "y_reg  = df['Open'].shift(-1)"
      ],
      "execution_count": 0,
      "outputs": []
    },
    {
      "cell_type": "markdown",
      "metadata": {
        "id": "_W_hxRQd322J",
        "colab_type": "text"
      },
      "source": [
        "# **Prepare training/test data**"
      ]
    },
    {
      "cell_type": "code",
      "metadata": {
        "id": "8YG2EkBfoVNL",
        "colab_type": "code",
        "colab": {}
      },
      "source": [
        "split = 0.85\n",
        "total_size = len(df)\n",
        "X_train = X_reg[:int(split*total_size)]\n",
        "y_train = y_reg[:int(split*total_size)]\n",
        "X_test = X_reg[int(split*total_size):]\n",
        "y_test = y_reg[int(split*total_size):]"
      ],
      "execution_count": 0,
      "outputs": []
    },
    {
      "cell_type": "markdown",
      "metadata": {
        "id": "Tbd4QhuV38iq",
        "colab_type": "text"
      },
      "source": [
        "# **Fit data to regressor model**"
      ]
    },
    {
      "cell_type": "code",
      "metadata": {
        "id": "UOTfel4YjqPJ",
        "colab_type": "code",
        "colab": {}
      },
      "source": [
        "\n",
        "regressor = svm.SVR(kernel='linear')\n",
        "regressor.fit(X_train,y_train)\n",
        "y_pred = regressor.predict(X_test)"
      ],
      "execution_count": 0,
      "outputs": []
    },
    {
      "cell_type": "markdown",
      "metadata": {
        "id": "b3l59YVm4EhX",
        "colab_type": "text"
      },
      "source": [
        "# **Visualization**"
      ]
    },
    {
      "cell_type": "code",
      "metadata": {
        "id": "bsytR_yTq4bA",
        "colab_type": "code",
        "colab": {}
      },
      "source": [
        "plot_svr_df = pd.DataFrame({'y_test': y_test, 'y_pred': y_pred})\n",
        "plt = plot_svr_df.head(20).plot(kind = 'bar', figsize=(15,10))\n",
        "plt.xaxis.set_major_locator(ticker.MultipleLocator(1))\n"
      ],
      "execution_count": 0,
      "outputs": []
    }
  ]
}